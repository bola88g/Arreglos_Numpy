{
 "cells": [
  {
   "cell_type": "markdown",
   "metadata": {},
   "source": [
    "##### 1. Write a Python program to create an array of 5 integers and display the array items. Access individual element through indexes"
   ]
  },
  {
   "cell_type": "code",
   "execution_count": 2,
   "metadata": {},
   "outputs": [
    {
     "ename": "SyntaxError",
     "evalue": "unexpected character after line continuation character (<ipython-input-2-3a8ba6fef3f6>, line 14)",
     "output_type": "error",
     "traceback": [
      "\u001b[1;36m  File \u001b[1;32m\"<ipython-input-2-3a8ba6fef3f6>\"\u001b[1;36m, line \u001b[1;32m14\u001b[0m\n\u001b[1;33m    print(type(arreglo)\\n)\u001b[0m\n\u001b[1;37m                          ^\u001b[0m\n\u001b[1;31mSyntaxError\u001b[0m\u001b[1;31m:\u001b[0m unexpected character after line continuation character\n"
     ]
    }
   ],
   "source": [
    "import array as arr\n",
    "cadena = input('ingrese 5 números enteros separados por comas')\n",
    "lista = cadena.split(',')\n",
    "list_ent = [int(n) for n in lista]\n",
    "arreglo = arr.array('i',list_ent)\n",
    "\n",
    "print('cadena: ',cadena)\n",
    "print(type(cadena))\n",
    "print('lista: ',lista)\n",
    "print(type(lista))\n",
    "print('list_ent: ',list_ent)\n",
    "print(type(list_ent))\n",
    "print('arreglo: ',arreglo)\n",
    "print(type(arreglo))"
   ]
  },
  {
   "cell_type": "code",
   "execution_count": 7,
   "metadata": {},
   "outputs": [
    {
     "name": "stdin",
     "output_type": "stream",
     "text": [
      "ingrese 5 números enteros separados por comas 5468,5,8,12,5\n"
     ]
    },
    {
     "name": "stdout",
     "output_type": "stream",
     "text": [
      "cadena1:  5468,5,8,12,5\n",
      "<class 'str'>\n",
      "lista1:  ['5468', '5', '8', '12', '5']\n",
      "<class 'list'>\n",
      "list_ent1:  [5468, 5, 8, 12, 5]\n",
      "<class 'list'>\n",
      "arreglo1:  [5468    5    8   12    5]\n",
      "<class 'numpy.ndarray'>\n"
     ]
    }
   ],
   "source": [
    "import numpy as np\n",
    "cadena1 = input('ingrese 5 números enteros separados por comas')\n",
    "lista1 = cadena1.split(',')\n",
    "list_ent1 = [int(n) for n in lista1]\n",
    "arreglo1 = np.asarray(list_ent1)\n",
    "\n",
    "print('cadena1: ',cadena1)\n",
    "print(type(cadena1))\n",
    "print('lista1: ',lista1)\n",
    "print(type(lista1))\n",
    "print('list_ent1: ',list_ent1)\n",
    "print(type(list_ent1))\n",
    "print('arreglo1: ',arreglo1)\n",
    "print(type(arreglo1))"
   ]
  },
  {
   "cell_type": "code",
   "execution_count": null,
   "metadata": {},
   "outputs": [],
   "source": []
  },
  {
   "cell_type": "code",
   "execution_count": null,
   "metadata": {},
   "outputs": [],
   "source": []
  }
 ],
 "metadata": {
  "kernelspec": {
   "display_name": "Python 3",
   "language": "python",
   "name": "python3"
  },
  "language_info": {
   "codemirror_mode": {
    "name": "ipython",
    "version": 3
   },
   "file_extension": ".py",
   "mimetype": "text/x-python",
   "name": "python",
   "nbconvert_exporter": "python",
   "pygments_lexer": "ipython3",
   "version": "3.7.3"
  }
 },
 "nbformat": 4,
 "nbformat_minor": 4
}
